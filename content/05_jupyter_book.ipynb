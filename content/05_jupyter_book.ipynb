{
  "metadata": {
    "language_info": {
      "codemirror_mode": {
        "name": "python",
        "version": 3
      },
      "file_extension": ".py",
      "mimetype": "text/x-python",
      "name": "python",
      "nbconvert_exporter": "python",
      "pygments_lexer": "ipython3",
      "version": "3.8"
    },
    "kernelspec": {
      "name": "python",
      "display_name": "Pyolite",
      "language": "python"
    }
  },
  "nbformat_minor": 4,
  "nbformat": 4,
  "cells": [
    {
      "cell_type": "markdown",
      "source": "# Jupyter Book Demo\n\nThe notebooks that are distributed via the JuypterLite environment are also used as the basis of the Jupyter Book output published [here](https://opencomputinglab.github.io/jupyterlab-demo/book/content/overview.html).\n\nIn order to render the book, two configuration files are required:\n\n- a `config.yml` file which defines the top level book configuration;\n- a `_toc.yml` file that defines the contents of the book.\n\nBoth of these files can be found in the original repository.",
      "metadata": {}
    },
    {
      "cell_type": "markdown",
      "source": "Note that it is possible to define a Jupyer Book theme that provides a \"launch\" option to launch a notebook corresponding to a book page using JupyterLite. A JupyterLite environment can also be published as part of a Jupyter Book workflow using the `jupyterlite-sphinx` extension, although currently the content files need to be copied over to the JupyterLite distribution manually.\n\nThe `jupyterlite-sphinx` package also provides a straightforward mechanism for embedding JupyterLite powered notebooks *inside* Jupyter Book pages.\n\n*The theme used to publish the Jupyter Book in this environment will be updated to include a \"launch in JupyterLite\" option as and when I get a chance...*",
      "metadata": {}
    }
  ]
}