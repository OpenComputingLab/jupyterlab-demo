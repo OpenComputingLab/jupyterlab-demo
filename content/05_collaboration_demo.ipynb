{
  "metadata": {
    "language_info": {
      "codemirror_mode": {
        "name": "python",
        "version": 3
      },
      "file_extension": ".py",
      "mimetype": "text/x-python",
      "name": "python",
      "nbconvert_exporter": "python",
      "pygments_lexer": "ipython3",
      "version": "3.8"
    },
    "kernelspec": {
      "name": "python",
      "display_name": "Pyolite",
      "language": "python"
    }
  },
  "nbformat_minor": 4,
  "nbformat": 4,
  "cells": [
    {
      "cell_type": "markdown",
      "source": "# Live Collaboration\n\nTo demo live collaboration on the same machine, open links to the same notebook in Retrolab with the same room name and different user names.\n\nFor example:\n\n- in one browser, e.g. Chrome, open https://opencomputinglab.github.io/jupyterlab-demo/retro/notebooks/?path=collaboration_demo.ipynb&room=collabdemo&username=abc\n\n- in another browser, e.g. Firefox, open https://opencomputinglab.github.io/jupyterlab-demo/retro/notebooks/?path=collaboration_demo.ipynb&room=collabdemo&username=xyz\n\nIf you have access to multiple machines, use the links provided above in the browser of your choice. ",
      "metadata": {
        "jp-MarkdownHeadingCollapsed": true,
        "tags": []
      }
    },
    {
      "cell_type": "code",
      "source": "# Try editing cells in each copy of the notebook... ",
      "metadata": {
        "tags": [
          "style-student"
        ]
      },
      "execution_count": null,
      "outputs": []
    },
    {
      "cell_type": "markdown",
      "source": "...and see what happens in the other one...",
      "metadata": {
        "tags": [
          "style-student"
        ]
      }
    }
  ]
}