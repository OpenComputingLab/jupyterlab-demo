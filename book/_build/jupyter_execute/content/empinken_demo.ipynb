{
 "cells": [
  {
   "cell_type": "markdown",
   "metadata": {},
   "source": [
    "# Empinken Demo\n",
    "\n",
    "This notebook demonstrates persistent, background coloured markedown and code cells."
   ]
  },
  {
   "cell_type": "markdown",
   "metadata": {
    "tags": [
     "style-activity"
    ]
   },
   "source": [
    "## Activity Cells\n",
    "\n",
    "... are coloured blue, by default...\n",
    "\n",
    "These cells can be used to highlight an activity."
   ]
  },
  {
   "cell_type": "code",
   "execution_count": 1,
   "metadata": {
    "tags": [
     "style-activity"
    ]
   },
   "outputs": [],
   "source": [
    "# activity code cell"
   ]
  },
  {
   "cell_type": "markdown",
   "metadata": {
    "tags": [
     "style-activity"
    ]
   },
   "source": [
    "Activity markdown cell."
   ]
  },
  {
   "cell_type": "markdown",
   "metadata": {
    "tags": [
     "style-student"
    ]
   },
   "source": [
    "## Learner Cells\n",
    "\n",
    "...are coloured yellow by default...\n",
    "\n",
    "These cells can be used to specify a call to action, indicating a cell a student should edit / contribute to."
   ]
  },
  {
   "cell_type": "code",
   "execution_count": 2,
   "metadata": {
    "tags": [
     "style-student"
    ]
   },
   "outputs": [],
   "source": [
    "# learner markdown cell."
   ]
  },
  {
   "cell_type": "markdown",
   "metadata": {
    "tags": [
     "style-student"
    ]
   },
   "source": [
    "Learner markdown cell."
   ]
  },
  {
   "cell_type": "markdown",
   "metadata": {
    "tags": [
     "style-commentate"
    ]
   },
   "source": [
    "## Tutor Cells\n",
    "\n",
    "...are coloured pink by default...\n",
    "\n",
    "These cells can be used by a tutor to highlight feedback."
   ]
  },
  {
   "cell_type": "code",
   "execution_count": 3,
   "metadata": {
    "tags": [
     "style-commentate"
    ]
   },
   "outputs": [],
   "source": [
    "# tutor markdown cell."
   ]
  },
  {
   "cell_type": "markdown",
   "metadata": {
    "tags": [
     "style-commentate"
    ]
   },
   "source": [
    "Tutor markdown cell."
   ]
  },
  {
   "cell_type": "markdown",
   "metadata": {
    "tags": [
     "style-solution"
    ]
   },
   "source": [
    "## Solution Cells\n",
    "\n",
    "... are coloured green, by default...\n",
    "\n",
    "These cells can be used to highlight a worked solution."
   ]
  },
  {
   "cell_type": "code",
   "execution_count": 4,
   "metadata": {
    "tags": [
     "style-solution"
    ]
   },
   "outputs": [],
   "source": [
    "# solution code cell"
   ]
  },
  {
   "cell_type": "markdown",
   "metadata": {
    "tags": [
     "style-solution"
    ]
   },
   "source": [
    "Solution markdown cell"
   ]
  },
  {
   "cell_type": "markdown",
   "metadata": {},
   "source": [
    "## Customisable Colours\n",
    "\n",
    "The background colours are customisable via the extension settings (`Settings > Advanced Settings Editor`).\n",
    "\n",
    "The display of the cell backgound toggle buttons on the noteboo toolbar is also controllable via the extension settings."
   ]
  }
 ],
 "metadata": {
  "kernelspec": {
   "display_name": "Pyolite",
   "language": "python",
   "name": "python"
  },
  "language_info": {
   "codemirror_mode": {
    "name": "ipython",
    "version": 3
   },
   "file_extension": ".py",
   "mimetype": "text/x-python",
   "name": "python",
   "nbconvert_exporter": "python",
   "pygments_lexer": "ipython3",
   "version": "3.8.12"
  }
 },
 "nbformat": 4,
 "nbformat_minor": 4
}