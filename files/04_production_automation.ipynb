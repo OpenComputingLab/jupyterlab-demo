{
  "metadata": {
    "language_info": {
      "codemirror_mode": {
        "name": "python",
        "version": 3
      },
      "file_extension": ".py",
      "mimetype": "text/x-python",
      "name": "python",
      "nbconvert_exporter": "python",
      "pygments_lexer": "ipython3",
      "version": "3.8"
    },
    "kernelspec": {
      "name": "python",
      "display_name": "Pyolite",
      "language": "python"
    }
  },
  "nbformat_minor": 4,
  "nbformat": 4,
  "cells": [
    {
      "cell_type": "markdown",
      "source": "# Production Automation\n\nVarious automation strategies can be used to support the production and quality assurance of assets and environments generated from a set of core production resources or source materials.\n\nThese include:\n\n- Github Actions to automatically check the quality of core production resources or source materials;\n- Github Actions to automatically generate and publish production environments (Docker containers, Jupyter Book environments, JupyterLite environments);\n- `git precommit` hooks to run code/text quality improvement tools and checks.\n\nFor more details, see [*Using Automation To Support Quality Assured Jupyter Notebook Publishing Processes*](https://opencomputinglab.github.io/educational-jupyter-notebook-qa-automation/).",
      "metadata": {}
    },
    {
      "cell_type": "markdown",
      "source": "## Github Actions\n\nFour Github Actions are currently defined on the repository:\n\n- an action to build the JupyterLite distribution environment and the Jupyter Book distribution;\n- an action to deploy the JupyterLite and Jupyter Book distributions to Github Pages via the `gh-pages` branch;\n- an action to grab a couple of screenshots from the published JupyterLite distribution using `shot-scraper` and commit them back to the repository in the `screenshots` directory;\n- an action to buid a Docker container using mark Hall's [`ou-container-builder`](https://ou-container-builder.readthedocs.io/) appropriate for deployment via the OU JupyterHub infrastructure.",
      "metadata": {}
    },
    {
      "cell_type": "markdown",
      "source": "Note that it is possible to define a Jupyer Book theme that provides a \"launch\" option to launch a notebook corresponding to a book page using JupyterLite. A JupyterLite environment can also be published as part of a Jupyter Book workflow using the `jupyterlite-sphinx` extension, although currently the content files need to be copied over to the JupyterLite distribution manually.\n\n*The theme used to publish the Jupyter Book in this environment will be updated to include a \"launch in JupyterLite\" option as and when I get a chance...*",
      "metadata": {}
    },
    {
      "cell_type": "markdown",
      "source": "## `git precommit` hooks\n\n*Forthcoming...*",
      "metadata": {}
    }
  ]
}