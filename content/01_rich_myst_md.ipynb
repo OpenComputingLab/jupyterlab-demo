{
  "metadata": {
    "language_info": {
      "codemirror_mode": {
        "name": "python",
        "version": 3
      },
      "file_extension": ".py",
      "mimetype": "text/x-python",
      "name": "python",
      "nbconvert_exporter": "python",
      "pygments_lexer": "ipython3",
      "version": "3.8"
    },
    "kernelspec": {
      "name": "python",
      "display_name": "Pyolite",
      "language": "python"
    }
  },
  "nbformat_minor": 4,
  "nbformat": 4,
  "cells": [
    {
      "cell_type": "markdown",
      "source": "# Rich MyST Markdown\n\nWith the `jupyerlab-myst` extension installed, richly styled admonition blocks can be rendered within markdown blocks using appropriately labeled code-fenced blocks,\n\nIf you are rreading this document in a \"live\" notebook environment, either in jupyerLie or a via a \"full\" notebook server, such as MyBinder, double click on the cell below to view the raw markdown.",
      "metadata": {}
    },
    {
      "cell_type": "markdown",
      "source": "## Admonition Blocks\n\nWithin a markdown cell, we can render a good varety of richly styled admonition blocks.\n\n```{warning}\n\nThis is a warning to you...\n```\n\n```{danger}\n\nThere is danger ahead.\n\n```\n\n```{admonition} For more details...\n:class: seealso\n\nSee the [Jupyter Book documentation](https://jupyterbook.org/en/stable/content/content-blocks.html#notes-warnings-and-other-admonitions).\n\n```",
      "metadata": {}
    }
  ]
}