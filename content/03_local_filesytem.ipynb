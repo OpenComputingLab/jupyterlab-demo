{
  "metadata": {
    "language_info": {
      "codemirror_mode": {
        "name": "python",
        "version": 3
      },
      "file_extension": ".py",
      "mimetype": "text/x-python",
      "name": "python",
      "nbconvert_exporter": "python",
      "pygments_lexer": "ipython3",
      "version": "3.8"
    },
    "kernelspec": {
      "name": "python",
      "display_name": "Pyolite",
      "language": "python"
    }
  },
  "nbformat_minor": 4,
  "nbformat": 4,
  "cells": [
    {
      "cell_type": "markdown",
      "source": "# Local File System Usage\n\nAt the current time, there are several file systems at play in JupyterLite, and even more so if a local file system is mounted.\n\n- JupyterLite file system;\n- browser storage file system;\n- local file system.\n\nWhen opening notebook files from the JupyterLite file system, a copy of the files appears in local browser storage; when opening from the desktop filesystem, no copy appears in local browser storage.\n\nIf you open a data file from the JupyterLite file system and then save it, it also appears in local browser storage; it can then be opened programmatically from local browser storage.\n\nYou can't seem to open a data file from the local filesystem and save it into browser storage.\n\nIrrespective of whether the `jupyterlab-filesystem-access` extension is installed, you can manually upload a data file from the desktop file system into the JupyterLite file system (this seems to have a side effect of also placing the file immediately into browser storage).\n\nWhen working with a local file system, if a new notebook is created in the JupyterLite environment, it *will not* be saved to the local file system: it forms part of the JupyterLite file system, and when saved will be saved to browser storage. To get the file into the local file system, you need to *download* it (`File > Download`). *Note that the downloaded file is the __saved__ version of the file, so save your notebook before downloading it.* Close the notebook in JupyterLite, and then ensure that the downloaded copy is placed into the appropriate local file system directory. Reopen the notebook from the local file system file listing in JupyterLite. Any updates made to the notebook and then saved will now also be saved back to the local file system.\n\nThe directory path the upload file file picker opens at may be different to the directory path used in selecting the directory on the desktop filesystem.",
      "metadata": {}
    }
  ]
}