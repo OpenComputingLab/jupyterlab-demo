{
 "cells": [
  {
   "cell_type": "markdown",
   "id": "0f4304ae",
   "metadata": {},
   "source": [
    "# Localisation, Theming and Accessibility\n",
    "\n",
    "Being mindful that different users have different user interface needs, they are various ways in which we might support end user customisation of the user interface.\n",
    "\n",
    "This chapter reviews three ways in which end-user customisation is supported in JupyterLab and Jupyter Notebook v7+:\n",
    "\n",
    "- *localisation*: support for language packs that render menus etc, in various languages (for example, English (default), French, Chinese);\n",
    "- *themes*: change the colour scheme, fonts, etc., used th render the user interface;\n",
    "- *accessibility*: extensions and quality assurance tools and processes intended to improve accessibility."
   ]
  },
  {
   "cell_type": "markdown",
   "id": "01375ec4",
   "metadata": {},
   "source": [
    "## Localisation\n",
    "\n",
    "Language packs are available for a wide variety of languages (see list [here](https://github.com/jupyterlab/language-packs/tree/master/language-packs)).\n",
    "\n",
    "Language packs can be installed from PyPi using commands of the form:\n",
    "\n",
    "`pip install jupyterlab-language-pack-fr-FR`\n",
    "\n",
    "Custom extensions can themselves be extended to include translation packs [[docs](https://jupyterlab.readthedocs.io/en/stable/extension/internationalization.html)].\n",
    "\n",
    "To change the user interface language, from the *Settings* menu, select the *Language* submenu, followed by the language you requre, and then reload JupyterLab.\n",
    "\n",
    "![](./images/JupyterLite-languages.png)\n",
    "\n",
    "To minimise the size of the distributed environment, not all the available language packs are likely to be preinstalled. Where users run their own container, they should be able to install (and persist the installation of) language packs of their own choosing, and persist the language settings in their environment. For JupyterLite distributions, custom builds with the language pack preinstalled are probably required."
   ]
  },
  {
   "cell_type": "markdown",
   "id": "a82f89ed",
   "metadata": {},
   "source": [
    "## Themes\n",
    "\n",
    "By default, JupyterLab ships with the \"traditional\" *JupyterLab Light* theme as well as a complementary *JupyterLab Dark* theme. Users can select from one of the preinstalled themes from the *Settings* menu *Theme* submenu.\n",
    "\n",
    "![](./images/JupyterLite-theme.png)\n",
    "\n",
    "Additional themes can be installed as plugins and selected the same way.\n",
    "\n",
    "Note that the OU custom branding is not currently sensitive to theme.\n",
    "\n",
    "![](./images/jupyterlab_dark_theme.png)\n",
    "\n",
    "The no longer maintained [`arbennett/jupyterlab-themes`](https://github.com/arbennett/jupyterlab-themes) repository defines a range of custom themes. Other themes can be found via the [`jupyterlab-theme`](https://github.com/topics/jupyterlab-theme) tag on Github.\n",
    "\n",
    "Support for developing custom themes is provided by the [`jupyterlab/extension-cookiecutter-ts`](https://github.com/jupyterlab/extension-cookiecutter-ts). See also the [docs](https://jupyterlab.readthedocs.io/en/stable/extension/extension_dev.html#theme-plugins) for basic information on creating custom themes."
   ]
  },
  {
   "cell_type": "markdown",
   "id": "a4087367",
   "metadata": {},
   "source": [
    "## Accessibility\n",
    "\n",
    "Extensions developed explicitly to support accessibility are few and far between. Accessibility of the core UI is tracked, in part, via the [`Accessibility` issues tag](https://github.com/jupyterlab/jupyterlab/issues?q=is%3Aopen+is%3Aissue+label%3Atag%3AAccessibility) in the JupyterHub code repository.\n",
    "\n",
    "As well as custom themes, we might also include the following as \"accessibility related\":\n",
    "\n",
    "- keyboard shortcuts;\n",
    "- audible feedback;\n",
    "- terminal access;\n",
    "- accessibility / quality audit tools (on the basis that if problems are flagged up, we might address them...)."
   ]
  },
  {
   "cell_type": "markdown",
   "id": "9a2de756",
   "metadata": {},
   "source": [
    "### Keyboard Shortcuts\n",
    "\n",
    "Many of the controls provided by the JupyterLab user interface can be triggered using keyboard shortcuts. The full list of keyboard shortcuts can be viewed from, and modified, via the *Keyboard shortcuts* editor from the *Settings > Advanced Settings Editor* menu.\n",
    "\n",
    "![](images/jupyterlab-keyboard-shortcuts.png)"
   ]
  },
  {
   "cell_type": "markdown",
   "id": "da19426e",
   "metadata": {},
   "source": [
    "### Audible Feedback\n",
    "\n",
    "The original classic notebook [`innovationOUtside/nb_cell_execution_status`](https://github.com/innovationOUtside/nb_cell_execution_status) extension included various forms of audible feedback relating to cell execution, but these have not (as yet...) been ported over to the complementary [`innovationOUtside/jupyterlab_cell_status_extension`](https://github.com/innovationOUtside/jupyterlab_cell_status_extension) extension."
   ]
  },
  {
   "cell_type": "markdown",
   "id": "ace81213",
   "metadata": {},
   "source": [
    "### Terminal Access\n",
    "\n",
    "As well as editing notebooks in a notebook style editor via the user interfaces developed by the core Jupyter developer team, various other individuals and community projects have developed approaches to viewing, running and editing notebooks via a terminal.\n",
    "\n",
    "It might be useful to evaluate these from an accessibility perspective.\n",
    "\n",
    "Examples include:\n",
    "\n",
    "- [`paw-lu/nbpreview`](https://github.com/paw-lu/nbpreview), \"a terminal viewer for Jupyter notebooks\";\n",
    "- [`joouha/euporie`](https://github.com/joouha/euporie), \"a terminal app for running and editing Jupyter notebooks\" [[docs](https://euporie.readthedocs.io/)];\n",
    "- [`davidbrochart/jpterm)`](https://github.com/davidbrochart/jpterm), terminal based access to notebooks via a Jupyter server; (I think this is a \"next generation\" version of [`davidbrochart/nbterm`](https://github.com/davidbrochart/nbterm), produced by the same developer)."
   ]
  },
  {
   "cell_type": "markdown",
   "id": "a3141e15",
   "metadata": {},
   "source": [
    "### Quality Audit Tools\n",
    "\n",
    "Several tools exist to support code quality improvement in notebooks (linting, code formatting etc.) which can provide a benefit to *all* users arising from consistency of presentation, but as these are not directly related to \"using\" the user environment, they will not be considered how.\n",
    "\n",
    "However, improving material quality in the context of alternative modes of presentation, such as image descriptions, or video transcripts, is more directly relevant. So what tools are there that might help us improve accessibility of materials, and particulalry notebook based materials, delivered via the JupyterLab user interface?\n",
    "\n"
   ]
  },
  {
   "cell_type": "code",
   "execution_count": null,
   "id": "d245a855",
   "metadata": {},
   "outputs": [],
   "source": [
    "# TO DO: https://github.com/innovationOUtside/nb_quality_profile"
   ]
  }
 ],
 "metadata": {
  "kernelspec": {
   "display_name": "Python 3 (ipykernel)",
   "language": "python",
   "name": "python3"
  },
  "language_info": {
   "codemirror_mode": {
    "name": "ipython",
    "version": 3
   },
   "file_extension": ".py",
   "mimetype": "text/x-python",
   "name": "python",
   "nbconvert_exporter": "python",
   "pygments_lexer": "ipython3",
   "version": "3.9.12"
  }
 },
 "nbformat": 4,
 "nbformat_minor": 5
}
