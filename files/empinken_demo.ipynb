{
  "metadata": {
    "language_info": {
      "codemirror_mode": {
        "name": "python",
        "version": 3
      },
      "file_extension": ".py",
      "mimetype": "text/x-python",
      "name": "python",
      "nbconvert_exporter": "python",
      "pygments_lexer": "ipython3",
      "version": "3.8"
    },
    "kernelspec": {
      "name": "python",
      "display_name": "Pyolite",
      "language": "python"
    }
  },
  "nbformat_minor": 4,
  "nbformat": 4,
  "cells": [
    {
      "cell_type": "markdown",
      "source": "# Empinken Demo\n\nThis notebook demonstrates persistent, background coloured markedown and code cells.",
      "metadata": {}
    },
    {
      "cell_type": "markdown",
      "source": "## Activity Cells\n\n... are coloured blue, by default...\n\nThese cells can be used to highlight an activity.",
      "metadata": {
        "tags": [
          "style-activity"
        ]
      }
    },
    {
      "cell_type": "code",
      "source": "# activity code cell",
      "metadata": {
        "tags": [
          "style-activity"
        ],
        "trusted": true
      },
      "execution_count": 1,
      "outputs": []
    },
    {
      "cell_type": "markdown",
      "source": "Activity markdown cell.",
      "metadata": {
        "tags": [
          "style-activity"
        ]
      }
    },
    {
      "cell_type": "markdown",
      "source": "## Learner Cells\n\n...are coloured yellow by default...\n\nThese cells can be used to specify a call to action, indicating a cell a student should edit / contribute to.",
      "metadata": {
        "tags": [
          "style-student"
        ]
      }
    },
    {
      "cell_type": "code",
      "source": "# learner markdown cell.",
      "metadata": {
        "tags": [
          "style-student"
        ]
      },
      "execution_count": null,
      "outputs": []
    },
    {
      "cell_type": "markdown",
      "source": "Learner markdown cell.",
      "metadata": {
        "tags": [
          "style-student"
        ]
      }
    },
    {
      "cell_type": "markdown",
      "source": "## Tutor Cells\n\n...are coloured pink by default...\n\nThese cells can be used by a tutor to highlight feedback.",
      "metadata": {
        "tags": [
          "style-commentate"
        ]
      }
    },
    {
      "cell_type": "code",
      "source": "# tutor markdown cell.",
      "metadata": {
        "tags": [
          "style-commentate"
        ]
      },
      "execution_count": null,
      "outputs": []
    },
    {
      "cell_type": "markdown",
      "source": "Tutor markdown cell.",
      "metadata": {
        "tags": [
          "style-commentate"
        ]
      }
    },
    {
      "cell_type": "markdown",
      "source": "## Solution Cells\n\n... are coloured green, by default...\n\nThese cells can be used to highlight a worked solution.",
      "metadata": {
        "tags": [
          "style-solution"
        ]
      }
    },
    {
      "cell_type": "code",
      "source": "# solution code cell",
      "metadata": {
        "tags": [
          "style-solution"
        ],
        "trusted": true
      },
      "execution_count": 2,
      "outputs": []
    },
    {
      "cell_type": "markdown",
      "source": "Solution markdown cell",
      "metadata": {
        "tags": [
          "style-solution"
        ]
      }
    },
    {
      "cell_type": "markdown",
      "source": "## Customisable Colours\n\nThe background colours are customisable via the extension settings (`Settings > Advanced Settings Editor`).\n\nThe display of the cell backgound toggle buttons on the noteboo toolbar is also controllable via the extension settings.",
      "metadata": {}
    }
  ]
}